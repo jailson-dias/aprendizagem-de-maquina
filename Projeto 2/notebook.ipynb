{
  "cells": [
    {
      "metadata": {
        "collapsed": true,
        "_cell_guid": "8368bcc5-8c6e-419b-a2e2-c9a2306181c4",
        "_uuid": "bb8fd3ccec1267a4b8626bd6dc612918349af1e8",
        "trusted": true
      },
      "cell_type": "code",
      "source": "import numpy as np\nimport pandas as pd\nimport lightgbm as lgb",
      "execution_count": 1,
      "outputs": []
    },
    {
      "metadata": {
        "_cell_guid": "6bd5538e-f2ba-460d-b6ef-42723863de06",
        "_uuid": "4ad7ace993da451b3c6cfc66134bc83867aa5c71"
      },
      "cell_type": "markdown",
      "source": "## Lendo informações dos usuários e das músicas"
    },
    {
      "metadata": {
        "collapsed": true,
        "_cell_guid": "c751ad15-7c89-444f-a26a-3712dc82f1cc",
        "_uuid": "dacaefb35ea3e2a76a7d3e9688814789690614b4",
        "trusted": true
      },
      "cell_type": "code",
      "source": "#read members\nmember = pd.read_csv(\"../input/members.csv\", dtype={'city' : 'category',\n                                                      'bd' : np.uint8,\n                                                      'gender' : 'category',\n                                                      'registered_via' : 'category'},\n                     parse_dates=['registration_init_time','expiration_date'])",
      "execution_count": 2,
      "outputs": []
    },
    {
      "metadata": {
        "collapsed": true,
        "_cell_guid": "25ec4d00-3ea1-402a-8488-f03c8559520c",
        "_uuid": "65b74daa0444c3b96cf1bf700f7d4e8f32652ad6",
        "trusted": true
      },
      "cell_type": "code",
      "source": "# read songs\nsong = pd.read_csv(\"../input/songs.csv\", dtype={'genre_ids': 'category',\n                                                  'language' : 'category',\n                                                  'artist_name' : 'category',\n                                                  'composer' : 'category',\n                                                  'lyricist' : 'category',\n                                                  'song_id' : 'category'})",
      "execution_count": 3,
      "outputs": []
    },
    {
      "metadata": {
        "collapsed": true,
        "_cell_guid": "8668eaf4-a849-436d-9507-9984b3edb77f",
        "_uuid": "1aee9c76c5dbdc74f287833174d68eb4b29cc81c",
        "trusted": true
      },
      "cell_type": "code",
      "source": "song_extra = pd.read_csv(\"../input/song_extra_info.csv\")",
      "execution_count": 4,
      "outputs": []
    },
    {
      "metadata": {
        "_cell_guid": "7632692d-d33f-4968-8a56-02f9c0de10c9",
        "_uuid": "bc16f07f98fae022912e31b6b46f8e6534037681"
      },
      "cell_type": "markdown",
      "source": "Pegando nomes das colunas que tem em usuários e músicas"
    },
    {
      "metadata": {
        "_cell_guid": "4d726af0-9588-40de-b7c6-b377f58ea7b7",
        "_uuid": "9e8d0d42e3c182e397d97c0a8f939b1e754a9f78",
        "trusted": true
      },
      "cell_type": "code",
      "source": "columns_member = member.columns.tolist()\ncolumns_song = song.columns.tolist()\ncolumns_song_extra = song_extra.columns.tolist()\n\nprint (columns_member)\nprint (columns_song)\nprint (columns_song_extra)",
      "execution_count": 5,
      "outputs": [
        {
          "output_type": "stream",
          "text": "['msno', 'city', 'bd', 'gender', 'registered_via', 'registration_init_time', 'expiration_date']\n['song_id', 'song_length', 'genre_ids', 'artist_name', 'composer', 'lyricist', 'language']\n['song_id', 'name', 'isrc']\n",
          "name": "stdout"
        }
      ]
    },
    {
      "metadata": {
        "_cell_guid": "bf7613b5-99d1-4376-981a-1019f679acee",
        "_uuid": "920f429d7298d6031c5a92236bda81cba530cb73"
      },
      "cell_type": "markdown",
      "source": "## Lendo base de dados de treinamento"
    },
    {
      "metadata": {
        "collapsed": true,
        "_cell_guid": "c343e9c6-f473-4223-8796-6f355148f2c3",
        "_uuid": "7bdd6903e2071456ada2bec0ab8553f372e41962",
        "trusted": true
      },
      "cell_type": "code",
      "source": "train = pd.read_csv(\"../input/train.csv\", dtype={'msno' : 'category',\n                                                'source_system_tab' : 'category',\n                                                  'source_screen_name' : 'category',\n                                                  'source_type' : 'category',\n                                                  'target' : np.uint8,\n                                                  'song_id' : 'category'})",
      "execution_count": null,
      "outputs": []
    },
    {
      "metadata": {
        "_cell_guid": "e0ee67b6-33f2-4bf9-bd39-c20e5cf35ed9",
        "_uuid": "eef640e6a177e925ed3184d837240d5e070d60d4"
      },
      "cell_type": "markdown",
      "source": "## Lendo base de dados de teste"
    },
    {
      "metadata": {
        "scrolled": true,
        "collapsed": true,
        "_cell_guid": "20e02e63-e00e-4f15-bdb3-e17b967b9dc4",
        "_uuid": "379c8bb0c3e14ba81f4e02c588d443e5926ddf34",
        "trusted": true
      },
      "cell_type": "code",
      "source": "test = pd.read_csv(\"../input/test.csv\", dtype={'msno' : 'category',\n                                                'source_system_tab' : 'category',\n                                                'source_screen_name' : 'category',\n                                                'source_type' : 'category',\n                                                'song_id' : 'category'})",
      "execution_count": null,
      "outputs": []
    },
    {
      "metadata": {
        "_cell_guid": "b0f9b630-371a-4e32-b48c-12e3d9a9089a",
        "_uuid": "c5b5ca684cb836ebefed836fb28c1073f26b9ed6"
      },
      "cell_type": "markdown",
      "source": "### Criando conjuntos de treinamento e teste"
    },
    {
      "metadata": {
        "_cell_guid": "6cb5d14f-c080-4b88-b15a-2ddf71322d39",
        "_uuid": "564d15ec971570aa794fca19d04f63a6a8cda6fc"
      },
      "cell_type": "markdown",
      "source": "Conjunto de treinamento"
    },
    {
      "metadata": {
        "collapsed": true,
        "_cell_guid": "71b5c623-eb4f-49b3-a4bb-21f2cb8175e4",
        "_uuid": "d850f94a69081630368c4b0d9282f29d1196da46",
        "trusted": true
      },
      "cell_type": "code",
      "source": "\nds_train = train.merge(member[columns_member], on='msno', how='left')\nds_train = ds_train.merge(song[columns_song], on='song_id', how='left')\nds_train = ds_train.merge(song_extra[columns_song_extra], on='song_id', how='left')",
      "execution_count": null,
      "outputs": []
    },
    {
      "metadata": {
        "_cell_guid": "c0676af1-faa5-45ea-9830-aca61e20e65d",
        "_uuid": "815d0755de7a5b27046b45067ce28d2101d3cb56"
      },
      "cell_type": "markdown",
      "source": "Conjunto de teste"
    },
    {
      "metadata": {
        "collapsed": true,
        "_cell_guid": "c5d08000-e472-4756-b979-26b9b0da984b",
        "_uuid": "90a96894581899ffa35fcdb26625bbd559853818",
        "trusted": true
      },
      "cell_type": "code",
      "source": "ds_test = test.merge(member[columns_member], on='msno', how='left')\nds_test = ds_test.merge(song[columns_song], on='song_id', how='left')\nds_test = ds_test.merge(song_extra[columns_song_extra], on='song_id', how='left')",
      "execution_count": null,
      "outputs": []
    },
    {
      "metadata": {
        "_cell_guid": "9d175e42-919a-4afb-a2c7-c11ba2a2578e",
        "_uuid": "622edec6584a3cb63af990a5239f4f069bb1079e"
      },
      "cell_type": "markdown",
      "source": "# 2. Adição de features"
    },
    {
      "metadata": {
        "_uuid": "0ff5f7ba0d188023863abb20731d00faf75dac3a"
      },
      "cell_type": "markdown",
      "source": "tempo de assinatura"
    },
    {
      "metadata": {
        "trusted": true,
        "collapsed": true,
        "_uuid": "d039846ca703f59c0c18f35a09ed834c0ba57c63"
      },
      "cell_type": "code",
      "source": "ds_train['membership_days'] = ds_train['expiration_date'].subtract(ds_train['registration_init_time']).dt.days.astype(int)\nds_test['membership_days'] = ds_test['expiration_date'].subtract(ds_test['registration_init_time']).dt.days.astype(int)",
      "execution_count": null,
      "outputs": []
    },
    {
      "metadata": {
        "_uuid": "f1f4562c911f5fdd6c96694573607d66c3417c61"
      },
      "cell_type": "markdown",
      "source": "artista e compositor é o mesmo"
    },
    {
      "metadata": {
        "trusted": true,
        "collapsed": true,
        "_uuid": "50b510a642f3aa81c11c0bcca3638079d8275d50"
      },
      "cell_type": "code",
      "source": "ds_train['artist_composer'] = (np.asarray(ds_train['artist_name']) == np.asarray(ds_train['composer'])).astype(np.int8)\nds_test['artist_composer'] = (np.asarray(ds_test['artist_name']) == np.asarray(ds_test['composer'])).astype(np.int8)",
      "execution_count": null,
      "outputs": []
    },
    {
      "metadata": {
        "_uuid": "ca4cc0c6b754b96ed104a07b7f30fe7a2ca634bb"
      },
      "cell_type": "markdown",
      "source": "quantidade de generos, compositores e liricos"
    },
    {
      "metadata": {
        "trusted": true,
        "collapsed": true,
        "_uuid": "7b6026080cd6a0fa77628b3c7879b2a1644b637c"
      },
      "cell_type": "code",
      "source": "def count_vals(x):\n    # count number of values (since we can have mutliple values separated by '|')\n    if type(x) != str:\n        return 1\n    else:\n        return 1 + x.count('|')",
      "execution_count": null,
      "outputs": []
    },
    {
      "metadata": {
        "trusted": true,
        "_uuid": "773017da706add29254b6a800d31487da5481a6b"
      },
      "cell_type": "code",
      "source": "ds_train['number_of_genres'] = ds_train['genre_ids'].apply(count_vals)\nds_train['number_of_composers'] = ds_train['composer'].apply(count_vals)\nds_train['number_of_lyricists'] = ds_train['lyricist'].apply(count_vals)\n\nds_test['number_of_genres'] = ds_test['genre_ids'].apply(count_vals)\nds_test['number_of_composers'] = ds_test['composer'].apply(count_vals)\nds_test['number_of_lyricists'] = ds_test['lyricist'].apply(count_vals)",
      "execution_count": null,
      "outputs": []
    },
    {
      "metadata": {
        "_cell_guid": "30357b86-ddb1-4808-9673-a685b899b72d",
        "_uuid": "5c9629f49e6e5001f6d2f8a4652dbdf3bde1973b"
      },
      "cell_type": "markdown",
      "source": "data de registro na plataforma"
    },
    {
      "metadata": {
        "collapsed": true,
        "_cell_guid": "0ad7a605-2a10-45a8-8b50-58c554a157d5",
        "_uuid": "836c17cd2e813f9391b3f6b28fa243f3e2ee12c8",
        "trusted": true
      },
      "cell_type": "code",
      "source": "ds_train['registration_year'] = ds_train['registration_init_time'].apply(lambda x: int(str(x)[0:4]))\nds_train['registration_month'] = ds_train['registration_init_time'].apply(lambda x: int(str(x)[5:7]))\nds_train['registration_date'] = ds_train['registration_init_time'].apply(lambda x: int(str(x)[8:10]))\nds_train = ds_train.drop(['registration_init_time'], axis=1)\n\nds_test['registration_year'] = ds_test['registration_init_time'].apply(lambda x: int(str(x)[0:4]))\nds_test['registration_month'] = ds_test['registration_init_time'].apply(lambda x: int(str(x)[5:7]))\nds_test['registration_date'] = ds_test['registration_init_time'].apply(lambda x: int(str(x)[8:10]))\nds_test = ds_test.drop(['registration_init_time'], axis=1)",
      "execution_count": null,
      "outputs": []
    },
    {
      "metadata": {
        "_uuid": "0bab75cd2163d2834c83a1975accdfdb5ae2b4b8"
      },
      "cell_type": "markdown",
      "source": "data de expiração do registro na plataforma"
    },
    {
      "metadata": {
        "trusted": true,
        "collapsed": true,
        "_uuid": "4d926dcb5b2d75b39fdc50601c667c480ce8a2de"
      },
      "cell_type": "code",
      "source": "ds_train['expiration_year'] = ds_train['expiration_date'].apply(lambda x: int(str(x)[0:4]))\nds_train['expiration_month'] = ds_train['expiration_date'].apply(lambda x: int(str(x)[5:7]))\nds_train['expiration_date'] = ds_train['expiration_date'].apply(lambda x: int(str(x)[8:10]))\n\nds_test['expiration_year'] = ds_test['expiration_date'].apply(lambda x: int(str(x)[0:4]))\nds_test['expiration_month'] = ds_test['expiration_date'].apply(lambda x: int(str(x)[5:7]))\nds_test['expiration_date'] = ds_test['expiration_date'].apply(lambda x: int(str(x)[8:10]))",
      "execution_count": null,
      "outputs": []
    },
    {
      "metadata": {
        "_uuid": "ad5956a91b33b570488dd3ab77b589a5df217892"
      },
      "cell_type": "markdown",
      "source": "dividindo isrc em pais, organização que gravou a musica, ano de gravação e numero unico da musica"
    },
    {
      "metadata": {
        "scrolled": true,
        "_cell_guid": "6248dd9c-3543-4d8f-93e2-799633eac153",
        "_uuid": "c1ba2620f0388345763177bb14994e4a6350a600",
        "trusted": true
      },
      "cell_type": "code",
      "source": "isrc_values = pd.Series(ds_train.isrc.values)\nds_train.drop(['isrc'], axis=1, inplace=True)\nds_train['isrc_pais'] = isrc_values.str.slice(0,2).astype('category')\nds_train[\"isrc_pais\"] = pd.factorize(ds_train['isrc_pais'])[0]\n\nds_train['isrc_org'] = isrc_values.str.slice(2,5).astype('category')\nds_train[\"isrc_org\"] = pd.factorize(ds_train['isrc_org'])[0]\nds_train['isrc_year'] = isrc_values.str.slice(5,7).astype(float)  # IRSC issue date\n# ds_train['isrc_number'] = isrc_values.str.slice(7,12)\nds_train.loc[ds_train['isrc_year'] > 17, 'isrc_year'] += 1900  # 1900's songs\nds_train.loc[ds_train['isrc_year'] < 18, 'isrc_year'] += 2000  # 2000's songs\n\n\n\nisrc_values_test = pd.Series(ds_test.isrc.values)\nds_test.drop(['isrc'], axis=1, inplace=True)\nds_test['isrc_pais'] = isrc_values_test.str.slice(0,2).astype('category')\nds_test[\"isrc_pais\"] = pd.factorize(ds_test['isrc_pais'])[0]\n\nds_test['isrc_org'] = isrc_values_test.str.slice(2,5).astype('category')\nds_test[\"isrc_org\"] = pd.factorize(ds_test['isrc_org'])[0]\n\nds_test['isrc_year'] = isrc_values_test.str.slice(5,7).astype(float)  # IRSC issue date\n# ds_test['isrc_number'] = isrc_values_test.str.slice(7,12)\nds_test.loc[ds_test['isrc_year'] > 17, 'isrc_year'] += 1900  # 1900's songs\nds_test.loc[ds_test['isrc_year'] < 18, 'isrc_year'] += 2000  # 2000's songs",
      "execution_count": null,
      "outputs": []
    },
    {
      "metadata": {
        "_cell_guid": "12e63181-fc28-4fc1-af39-5a82de9dfeec",
        "_uuid": "31fe02b27b55af3d6554dc0acce610ee9292dbf9"
      },
      "cell_type": "markdown",
      "source": "Teste"
    },
    {
      "metadata": {
        "_cell_guid": "9e95f68d-5db2-4bc9-8cf4-a52669fb43e9",
        "_uuid": "72971ec8a1caee9023c84f027bae608191e3ad9d",
        "trusted": true
      },
      "cell_type": "code",
      "source": "ds_train[\"isrc_pais\"] = pd.factorize(ds_train['isrc_pais'])[0]\nds_train[\"isrc_org\"] = pd.factorize(ds_train['isrc_org'])[0]\n\nds_test[\"isrc_pais\"] = pd.factorize(ds_test['isrc_pais'])[0]\nds_test[\"isrc_org\"] = pd.factorize(ds_test['isrc_org'])[0]",
      "execution_count": 77,
      "outputs": []
    },
    {
      "metadata": {
        "_cell_guid": "d31e4e65-9dbf-4f6b-b040-ec7e673cc83d",
        "_uuid": "6775db9d9d81ad3883c1ca0091911b220127351d",
        "trusted": true
      },
      "cell_type": "code",
      "source": "columns_tt = ds_test.columns.tolist()\nfor ind, i in enumerate(columns_tt):\n    cc = list(ds_test[i].unique())\n    print (ind, i, \"==>\" , len(cc), type(cc[0]) , \"\\n\")\n# ds_test",
      "execution_count": 85,
      "outputs": [
        {
          "output_type": "stream",
          "text": "0 id ==> 2556790 <class 'numpy.int64'> \n\n1 source_system_tab ==> 10 <class 'str'> \n\n2 source_screen_name ==> 23 <class 'str'> \n\n3 source_type ==> 13 <class 'str'> \n\n4 city ==> 21 <class 'str'> \n\n5 bd ==> 88 <class 'numpy.uint64'> \n\n6 gender ==> 3 <class 'float'> \n\n7 registered_via ==> 6 <class 'str'> \n\n8 expiration_date ==> 31 <class 'numpy.int64'> \n\n9 song_length ==> 45658 <class 'numpy.float64'> \n\n10 genre_ids ==> 502 <class 'str'> \n\n11 artist_name ==> 27564 <class 'str'> \n\n12 composer ==> 52307 <class 'str'> \n\n13 lyricist ==> 24911 <class 'float'> \n\n14 language ==> 11 <class 'str'> \n\n15 membership_days ==> 4240 <class 'numpy.int64'> \n\n16 artist_composer ==> 2 <class 'numpy.int64'> \n\n17 number_of_genres ==> 8 <class 'numpy.int64'> \n\n18 number_of_composers ==> 26 <class 'numpy.int64'> \n\n19 number_of_lyricists ==> 20 <class 'numpy.int64'> \n\n20 registration_year ==> 14 <class 'numpy.int64'> \n\n21 registration_month ==> 12 <class 'numpy.int64'> \n\n22 registration_date ==> 31 <class 'numpy.int64'> \n\n23 expiration_year ==> 16 <class 'numpy.int64'> \n\n24 expiration_month ==> 12 <class 'numpy.int64'> \n\n25 isrc_pais ==> 97 <class 'numpy.int64'> \n\n26 isrc_org ==> 4884 <class 'numpy.int64'> \n\n27 isrc_year ==> 101 <class 'numpy.float64'> \n\n",
          "name": "stdout"
        }
      ]
    },
    {
      "metadata": {
        "collapsed": true,
        "_cell_guid": "b7a117cd-3716-4c30-8a05-a4facad8aafd",
        "_uuid": "f6020ade71078378398d7d55e067ae07c1769d42",
        "trusted": false
      },
      "cell_type": "code",
      "source": "# ds_test.columns.tolist()",
      "execution_count": null,
      "outputs": []
    },
    {
      "metadata": {
        "_cell_guid": "b6da2230-258d-4cc0-a368-48cd90041917",
        "_uuid": "72aa5fbc146b67fb7e62ba17c44e42e93e6c5c73"
      },
      "cell_type": "markdown",
      "source": "### retirando da base algumas colunas que tem muitas categorias"
    },
    {
      "metadata": {
        "_cell_guid": "6e374093-ef48-4b7e-a34d-c074de9570da",
        "_uuid": "688cf8e0d15e65a5e66b0963d98a1c62a6abbf69"
      },
      "cell_type": "markdown",
      "source": "### Treinamento"
    },
    {
      "metadata": {
        "collapsed": true,
        "_cell_guid": "4d9d89e0-8054-42ed-b7c7-a0220c6bc6b0",
        "_uuid": "0dba6041250b8345234c05c3d99c2a5eb9c4a786",
        "trusted": false
      },
      "cell_type": "code",
      "source": "# columns_dftrain = [\n#  'target',\n#  'source_system_tab',\n#  'source_screen_name',\n#  'source_type',\n#  'city',\n#  'bd',\n#  'song_length',\n#  'language',\n#  'gender',\n#  'isrc',\n#  'registration_year',\n#  'registration_month',\n#  'registration_date',\n#  'expiration_year',\n#  'expiration_month',\n#  'registered_via',\n#  'expiration_date']\n\n# dftrain = ds_train.reindex(columns=columns_dftrain)\n# # dftrain",
      "execution_count": null,
      "outputs": []
    },
    {
      "metadata": {
        "_cell_guid": "96ba1843-deaf-4ba6-889b-1305dc93a762",
        "_uuid": "fa947b5dc083957f72c39db415b6fc066f2c83a1"
      },
      "cell_type": "markdown",
      "source": "### Teste"
    },
    {
      "metadata": {
        "collapsed": true,
        "_cell_guid": "d74d1aca-afda-46a2-9e67-591cebad2894",
        "_uuid": "1f9ea77e3a2380a4f939fec8498933a9c2afa46f",
        "trusted": false
      },
      "cell_type": "code",
      "source": "# columns_dftest = [\n#  'id',\n#  'source_system_tab',\n#  'source_screen_name',\n#  'source_type',\n#  'city',\n#  'bd',\n#  'song_length',\n#  'language',\n#  'gender',\n#  'isrc',\n#  'registration_year',\n#  'registration_month',\n#  'registration_date',\n#  'expiration_year',\n#  'expiration_month',\n#  'registered_via',\n#  'expiration_date']\n\n# dftest = ds_test.reindex(columns=columns_dftest)\n# # dftrain",
      "execution_count": null,
      "outputs": []
    },
    {
      "metadata": {
        "scrolled": true,
        "collapsed": true,
        "_cell_guid": "f0167cd7-da3f-44cc-baf8-b070b2da4aaf",
        "_uuid": "98c332463b24da21e50fdc216fb70004d2431682",
        "trusted": false
      },
      "cell_type": "code",
      "source": "# ds_train",
      "execution_count": null,
      "outputs": []
    },
    {
      "metadata": {
        "_cell_guid": "38ac934e-beec-4044-8717-cf65330234a8",
        "_uuid": "fd2568ee547d460562536eefb8d83e605c1a6f6a"
      },
      "cell_type": "markdown",
      "source": "### Tratando a coluna isrc"
    },
    {
      "metadata": {
        "_cell_guid": "79fac9d2-499b-42c0-bc1e-765a54984f68",
        "_uuid": "a5d18a46299c62a4a8f60c5888680321a2e08e0c"
      },
      "cell_type": "markdown",
      "source": "### Treinamento"
    },
    {
      "metadata": {
        "collapsed": true,
        "_cell_guid": "4dc511c7-9a4b-4cda-a62a-9d433b786172",
        "_uuid": "3994d389f1813f97c0ad7ffa13d9f5587e7e5075",
        "trusted": false
      },
      "cell_type": "code",
      "source": "# isrc_values = pd.Series(dftrain.isrc.values)\n# dftrain.drop(['isrc'], axis=1, inplace=True)\n# dftrain['isrc_pais'] = isrc_values.str.slice(0,2)\n# dftrain['isrc_org'] = isrc_values.str.slice(2,5)\n# dftrain['isrc_year'] = isrc_values.str.slice(5,7).astype(float)  # IRSC issue date\n# dftrain['isrc_number'] = isrc_values.str.slice(7,12)\n\n# dftrain.loc[dftrain['isrc_year'] > 17, 'isrc_year'] += 1900  # 1900's songs\n# dftrain.loc[dftrain['isrc_year'] < 18, 'isrc_year'] += 2000  # 2000's songs",
      "execution_count": null,
      "outputs": []
    },
    {
      "metadata": {
        "_cell_guid": "1534af99-5420-46e8-9156-79b880c88f09",
        "_uuid": "3f3c98318bcc67a2f6af4225b993d7a2a6541c43"
      },
      "cell_type": "markdown",
      "source": "### Teste"
    },
    {
      "metadata": {
        "collapsed": true,
        "_cell_guid": "5f760888-116a-4359-ab39-89c042ba4682",
        "_uuid": "37dee2434325060ef9122c49b66c9c25221be9f1",
        "trusted": false
      },
      "cell_type": "code",
      "source": "# isrc_values_test = pd.Series(dftest.isrc.values)\n# dftest.drop(['isrc'], axis=1, inplace=True)\n# dftest['isrc_pais'] = isrc_values_test.str.slice(0,2)\n# dftest['isrc_org'] = isrc_values_test.str.slice(2,5)\n# dftest['isrc_year'] = isrc_values_test.str.slice(5,7).astype(float)  # IRSC issue date\n# dftest['isrc_number'] = isrc_values_test.str.slice(7,12)\n\n# dftest.loc[dftest['isrc_year'] > 17, 'isrc_year'] += 1900  # 1900's songs\n# dftest.loc[dftest['isrc_year'] < 18, 'isrc_year'] += 2000  # 2000's songs",
      "execution_count": null,
      "outputs": []
    },
    {
      "metadata": {
        "_cell_guid": "6696bd50-d27e-41ee-b993-361841f5ffec",
        "_uuid": "f2a3065867e81e8e578f8fa87646803e75b1ce7c"
      },
      "cell_type": "markdown",
      "source": "### Removendo valores nulos"
    },
    {
      "metadata": {
        "_cell_guid": "64d1882f-0c75-4d45-a2b7-523d2d285c27",
        "_uuid": "2bcec5b0a7c2debea6aa528441f26576abc2ab14"
      },
      "cell_type": "markdown",
      "source": "### Treinamento"
    },
    {
      "metadata": {
        "collapsed": true,
        "_cell_guid": "18b860f0-e17d-486b-ab6d-3e77fabbf3f1",
        "_uuid": "2527e01397c2b529fa92a192fe69599ddf62d140",
        "trusted": false
      },
      "cell_type": "code",
      "source": "# for i in dftrain.columns.tolist():\n#     dftrain[i].replace([np.nan, \"null\"], 0, inplace=True)",
      "execution_count": null,
      "outputs": []
    },
    {
      "metadata": {
        "_cell_guid": "65cb7d31-7e43-480c-a13d-c560c02a8325",
        "_uuid": "4921b01bfe086be8809f924a21669e2c7c17b0b5"
      },
      "cell_type": "markdown",
      "source": "### Teste"
    },
    {
      "metadata": {
        "collapsed": true,
        "_cell_guid": "e9c85161-7839-4708-9246-31a24a2ea22a",
        "_uuid": "bb62cbb02aad857229cb652e9cab443f34cea64e",
        "trusted": false
      },
      "cell_type": "code",
      "source": "# for i in dftest.columns.tolist():\n#     dftest[i].replace([np.nan, \"null\"], 0, inplace=True)",
      "execution_count": null,
      "outputs": []
    },
    {
      "metadata": {
        "scrolled": true,
        "collapsed": true,
        "_cell_guid": "a1ed60f2-62ec-450a-b8f2-8e1f20346035",
        "_uuid": "38879326a4e91a533a77ad64f72a88a79325165a",
        "trusted": false
      },
      "cell_type": "code",
      "source": "# dftest",
      "execution_count": null,
      "outputs": []
    },
    {
      "metadata": {
        "_cell_guid": "a764f93b-49a9-43a7-a5ec-972c75732944",
        "_uuid": "4b5a0aba0e56bc13da0d6e057bba6746e98b1c3d"
      },
      "cell_type": "markdown",
      "source": "### Fazendo dummies na base"
    },
    {
      "metadata": {
        "_cell_guid": "afe80f2a-192a-4013-84e7-00e8ead64968",
        "_uuid": "25c251333bc24a2db314e4be039bd793abadb3cf"
      },
      "cell_type": "markdown",
      "source": "### Treinamento"
    },
    {
      "metadata": {
        "scrolled": true,
        "collapsed": true,
        "_cell_guid": "f1562258-d1df-439e-9388-8d009f936ff6",
        "_uuid": "84b9a8bd48c83bd5959d601b819571c4e573194f",
        "trusted": false
      },
      "cell_type": "code",
      "source": "# str_columns = ['source_system_tab', 'source_screen_name', 'source_type', 'gender']\n# for i in str_columns:\n#     print (i)\n#     dummies = pd.get_dummies(dftrain[i], prefix=i)\n#     dftrain = pd.concat([dftrain,dummies], axis=1)\n    \n# dftrain.drop(str_columns, axis=1, inplace=True)",
      "execution_count": null,
      "outputs": []
    },
    {
      "metadata": {
        "_cell_guid": "9913d7b4-f92f-4ef9-aad2-2a85dac5d8a5",
        "_uuid": "43b6084096d58ef8ddb996782ef13ca00c7b8f9a"
      },
      "cell_type": "markdown",
      "source": "### Teste"
    },
    {
      "metadata": {
        "collapsed": true,
        "_cell_guid": "f1a5ee25-b371-4586-9e69-4426e5ac37c4",
        "_uuid": "62005e0f72f6781207b7007ea598d386c87da7c1",
        "trusted": false
      },
      "cell_type": "code",
      "source": "# str_columns_test = ['source_system_tab', 'source_screen_name', 'source_type', 'gender']\n# for i in str_columns_test:\n#     print (i)\n#     dummies = pd.get_dummies(dftest[i], prefix=i)\n#     dftest = pd.concat([dftest,dummies], axis=1)\n\n# dftest.drop(str_columns_test, axis=1, inplace=True)",
      "execution_count": null,
      "outputs": []
    },
    {
      "metadata": {
        "_cell_guid": "0991dce8-2a6d-458d-ae69-4354b759d7ed",
        "_uuid": "80868a3228b4c9e1f738c05b13a8babb130407bc"
      },
      "cell_type": "markdown",
      "source": "### Removendo colunas que foram feito dummies do dataframe"
    },
    {
      "metadata": {
        "scrolled": true,
        "collapsed": true,
        "_cell_guid": "2d7b031b-e8a2-44d9-bad0-ac40366a20c3",
        "_uuid": "c1184b0d15b9b5e5c7d2d9f36e9a90aa5946d9ae",
        "trusted": false
      },
      "cell_type": "code",
      "source": "\n# dftest",
      "execution_count": null,
      "outputs": []
    },
    {
      "metadata": {
        "_cell_guid": "04a7c547-1873-4ac4-ba57-afb4d72d86f1",
        "_uuid": "800024d431a4ea81a14657ad904c3ef5eefcd877"
      },
      "cell_type": "markdown",
      "source": "## treinamento"
    },
    {
      "metadata": {
        "collapsed": true,
        "_cell_guid": "ad343488-cd71-4b1a-a07c-99608a49e68e",
        "_uuid": "c6f546044451ce97639abb05d136d900b7327a91",
        "trusted": false
      },
      "cell_type": "code",
      "source": "# dftrain.to_csv('data.csv.gz', compression = 'gzip', index=False)",
      "execution_count": null,
      "outputs": []
    },
    {
      "metadata": {
        "_cell_guid": "107b3417-f8b9-48e9-af10-542aa812e51a",
        "_uuid": "5fd3c2175cce68dbd1ba09d9f62661cf558601b0"
      },
      "cell_type": "markdown",
      "source": "### Retirando colunas com texto"
    },
    {
      "metadata": {
        "_cell_guid": "c9b6ee78-0fa9-450e-8a03-66c1414b479d",
        "_uuid": "cad721f7cd9bcbf3d53b74e55092ecf63334847b",
        "trusted": true
      },
      "cell_type": "code",
      "source": "ds_train.drop([\"msno\", \"song_id\", \"name\"], axis=1, inplace=True)\nds_test.drop([\"msno\", \"song_id\", \"name\"], axis=1, inplace=True)",
      "execution_count": 80,
      "outputs": []
    },
    {
      "metadata": {
        "_cell_guid": "77b82ee5-3ad9-4bc4-ae04-06f92eb2eda4",
        "_uuid": "136e088b588c9c6a514e095bd9a9ff2a51c78be7"
      },
      "cell_type": "markdown",
      "source": "### Dividindo em input e output"
    },
    {
      "metadata": {
        "scrolled": true,
        "_cell_guid": "40769cac-d1ab-4620-89f1-31e8ee5ccb7c",
        "_uuid": "9b172a89787d9eeb5df931f3bf02009bde13f593",
        "trusted": true
      },
      "cell_type": "code",
      "source": "X = ds_train.drop(['target'], axis=1)\ny = ds_train.target\n\nX_test = ds_test.drop(['id'], axis=1)\nindex_test = ds_test['id'].values\n\n# from sklearn.preprocessing import StandardScaler\n# sc = StandardScaler()\n\n# X = sc.fit_transform(X)\n# X_test = sc.transform(X_test)",
      "execution_count": 88,
      "outputs": []
    },
    {
      "metadata": {
        "_cell_guid": "5df3c32d-f8fa-43c4-8d3b-e50a2e1ec6d5",
        "_uuid": "3c0ec35e08e8a43c5320d558a749e4e597d37954"
      },
      "cell_type": "markdown",
      "source": "### Treinamento com LGBD"
    },
    {
      "metadata": {
        "_cell_guid": "3d33f5fe-11e3-4c9b-a725-c2c46c59b829",
        "_uuid": "6de346abaf7372b4ba9cd0394953a6cbdd1063a4",
        "trusted": true
      },
      "cell_type": "code",
      "source": "d_train = lgb.Dataset(X, y)\nwatchlist = [d_train]\n\n#Those parameters are almost out of hat, so feel free to play with them. I can tell\n#you, that if you do it right, you will get better results for sure ;)\nprint('Training LGBM model...')\nparams = {}\nparams['learning_rate'] = 0.0001\nparams['application'] = 'binary'\nparams['feature_fraction'] = 0.8\nparams['categorical_feature'] = [0,1,2,3,5,6,13]\nparams['max_depth'] = 8\nparams['num_leaves'] = 2**8\nparams['verbosity'] = 0\nparams['metric'] = 'auc'\n\nmodel = lgb.train(params, train_set=d_train, num_boost_round=150, valid_sets=watchlist, \\\nverbose_eval=1)\n\nprint (\"done\")",
      "execution_count": null,
      "outputs": [
        {
          "output_type": "stream",
          "text": "Training LGBM model...\n",
          "name": "stdout"
        }
      ]
    },
    {
      "metadata": {
        "_cell_guid": "dde48851-f4ad-4a16-89be-8e8fef44b3eb",
        "_uuid": "23f3cc411eb62963da84d758779869e57e153bf5"
      },
      "cell_type": "markdown",
      "source": "### Fazendo o predict com o LGBD"
    },
    {
      "metadata": {
        "_cell_guid": "11f73eb8-9584-455b-bbfb-d4b729dfbe88",
        "_uuid": "b107090114ac2f9aa003b4dadd89b499410709b1",
        "trusted": false,
        "collapsed": true
      },
      "cell_type": "code",
      "source": "print('Making predictions and saving them...')\np_test = model.predict(X_test)\n\nsubm = pd.DataFrame()\nsubm['id'] = index_test\nsubm['target'] = p_test\nsubm.to_csv('submission.csv.gz', compression = 'gzip', index=False, float_format = '%.5f')\nprint('Done!')",
      "execution_count": null,
      "outputs": []
    },
    {
      "metadata": {
        "_cell_guid": "62d4f2d0-a74a-46ae-b800-89ca812ff444",
        "_uuid": "bb137b705bb317bdbc63a02f24b1982f4f4e498d"
      },
      "cell_type": "markdown",
      "source": "### Treinando com linear regression"
    },
    {
      "metadata": {
        "collapsed": true,
        "_cell_guid": "4e225314-317a-4154-817f-ae6ab721ba2c",
        "_uuid": "0651f91fc5cc4f77803cb600d22be118140c817d",
        "trusted": false
      },
      "cell_type": "code",
      "source": "# from sklearn.linear_model import LinearRegression\n\n# reg = LinearRegression(normalize=True)\n# reg.fit(X,y)",
      "execution_count": null,
      "outputs": []
    },
    {
      "metadata": {
        "collapsed": true,
        "_cell_guid": "f79904cf-926d-45b6-94bf-6c5faf01fec8",
        "_uuid": "ffc7ea533c4a21bd37caf56327b96b2b0e63ade6",
        "trusted": false
      },
      "cell_type": "code",
      "source": "# a = reg.predict(X[:50000])\n# print (list(filter(lambda x : x < 0.15, a)))\n# # a = list(map(lambda x: 1 if x > 0.8 else 0, a))\n# b = pd.Series(a, y[:50000])\n# b",
      "execution_count": null,
      "outputs": []
    },
    {
      "metadata": {
        "_cell_guid": "e96f1ffc-df67-4594-8f85-a6761bd15998",
        "_uuid": "d28853013aebd225c893832ae27787017dd4cd11"
      },
      "cell_type": "markdown",
      "source": "## Teste"
    },
    {
      "metadata": {
        "collapsed": true,
        "_cell_guid": "884d8be4-1780-4164-b370-be43ff6db915",
        "_uuid": "52c664b8614e6360c95845d27c37b3db94448ee9",
        "trusted": false
      },
      "cell_type": "code",
      "source": "# columns_dftest = [\n#  'source_system_tab',\n#  'source_screen_name',\n#  'source_type',\n#  'city',\n#  'bd',\n#  'registered_via',\n#  'registration_init_time',\n#  'expiration_date',\n#  'song_length',\n#  'language',\n#  'isrc']\n\n# dftest = tttest.reindex(columns=columns_dftest)\n# dftest",
      "execution_count": null,
      "outputs": []
    },
    {
      "metadata": {
        "_cell_guid": "29905c40-79ad-4895-8c86-5c2357848b97",
        "_uuid": "c66f51b0492ca088842c1c67a5c234161f6810c2"
      },
      "cell_type": "markdown",
      "source": "#### tratando os valores nulos"
    },
    {
      "metadata": {
        "scrolled": true,
        "collapsed": true,
        "_cell_guid": "76fe0382-ffae-4cc7-958b-dad363de4a53",
        "_uuid": "28cb9c56b6dd0849566b167ce80175d7aa112bf6",
        "trusted": false
      },
      "cell_type": "code",
      "source": "# for i in dftest.columns.tolist():\n#     value = dftest[np.logical_not(np.logical_or(dftest[i].isnull(), dftest[i].isin(['null'])))]\n#     print (len(value), i)\n\n# for i in dftest.columns.tolist():\n#     dftest[i].replace([np.nan, \"null\"], 0, inplace=True)\n    \n# for i in dftest.columns.tolist():\n#     value = dftest[np.logical_not(np.logical_or(dftest[i].isnull(), dftest[i].isin(['null'])))]\n#     print (len(value), i)\n    ",
      "execution_count": null,
      "outputs": []
    },
    {
      "metadata": {
        "_cell_guid": "ca778d18-9b4b-4020-a867-56c17a676323",
        "_uuid": "47ef1dd1a1e7fb6dd010bad6b9ea030f05db8762"
      },
      "cell_type": "markdown",
      "source": "#### tratando colunas categoricas"
    },
    {
      "metadata": {
        "collapsed": true,
        "_cell_guid": "41db3134-ffa1-45ab-a425-086b7ec6e17c",
        "_uuid": "9ca2d17bd1dbcce9ccb06df98358f21911455ded",
        "trusted": false
      },
      "cell_type": "code",
      "source": "# str_columns = ['source_system_tab', 'source_screen_name', 'source_type']\n# for i in str_columns:\n#     print (i)\n#     dummies = pd.get_dummies(dftest[i], prefix=i)\n#     dftest = pd.concat([dftest,dummies], axis=1)\n# dftest",
      "execution_count": null,
      "outputs": []
    },
    {
      "metadata": {
        "scrolled": true,
        "collapsed": true,
        "_cell_guid": "4cedaa45-367a-4090-9330-b43fc95f0af3",
        "_uuid": "a4f5f153a46216fe0502e4eca52295aa58f70ab6",
        "trusted": false
      },
      "cell_type": "code",
      "source": "# dftest.drop(str_columns, axis=1, inplace=True)\n# dftest",
      "execution_count": null,
      "outputs": []
    },
    {
      "metadata": {
        "_cell_guid": "3a9c7594-e278-41a0-ba72-0c1cafc91146",
        "_uuid": "d818cf7ded54e2d181cc8db80f1059b789bb3c31"
      },
      "cell_type": "markdown",
      "source": "#### tratando coluna isrc"
    },
    {
      "metadata": {
        "collapsed": true,
        "_cell_guid": "1d0bbe4c-67bf-4fd8-a067-438cc60f0116",
        "_uuid": "9faf38033a51a9d8c04589df27029d4e894cb930",
        "trusted": false
      },
      "cell_type": "code",
      "source": "# isrc_values_test = pd.Series(dftest.isrc.values)\n# dftest.drop(['isrc'], axis=1, inplace=True)\n# # isrc_column = dftrain.reindex(columns=['isrc'])\n\n# # isrc_column['cc'] = isrc_values.str.slice(0,2)  # Country Code column\n# # isrc_column['xxx'] = isrc_values.str.slice(2,5) # IRSC Issuer\n# dftest['isrc'] = isrc_values_test.str.slice(5,7).astype(float)  # IRSC issue date",
      "execution_count": null,
      "outputs": []
    },
    {
      "metadata": {
        "collapsed": true,
        "_cell_guid": "693889ec-5342-479a-9125-b7ea346a2a27",
        "_uuid": "a437334cfbf87cabc6dc0bbbce01697947a7388f",
        "trusted": false
      },
      "cell_type": "code",
      "source": "# dftest.loc[dftest['isrc'] > 17, 'isrc'] += 1900  # 1900's songs\n# dftest.loc[dftest['isrc'] < 18, 'isrc'] += 2000  # 2000's songs\n\n# dftest",
      "execution_count": null,
      "outputs": []
    },
    {
      "metadata": {
        "collapsed": true,
        "_cell_guid": "420c072e-f2e7-41c8-adec-c3f6497f78f6",
        "_uuid": "17da038f69c46c253bfba7ab63adca635e039a70",
        "trusted": false
      },
      "cell_type": "code",
      "source": "# reg.predict(dftest)",
      "execution_count": null,
      "outputs": []
    },
    {
      "metadata": {
        "collapsed": true,
        "_cell_guid": "5897075d-f9c6-483f-9eb9-6814a9ac7169",
        "_uuid": "b06b8a5b6ffbe9656d7d6845e231f94569d8468e",
        "trusted": false
      },
      "cell_type": "code",
      "source": "# columns_isrc = isrc_column.columns.tolist()\n# for i in columns_isrc:\n#     cc = list(isrc_column[i].unique())\n#     print (i, \"==>\" , len(cc), type(cc[0]) , \"\\n\")",
      "execution_count": null,
      "outputs": []
    },
    {
      "metadata": {
        "_cell_guid": "ad521542-593d-4a2f-b9b6-61b6c2053940",
        "_uuid": "33c2225b8b938194330504d7a7ebe0b98868fd99"
      },
      "cell_type": "markdown",
      "source": "junstando com a base de trainamento"
    },
    {
      "metadata": {
        "scrolled": true,
        "collapsed": true,
        "_cell_guid": "2dad53a3-b584-4d4d-b494-d00494bccb54",
        "_uuid": "bc4d2468cadb908781a02ec768608b6e69e40bab",
        "trusted": false
      },
      "cell_type": "code",
      "source": "# dftrain.drop(['isrc'], axis=1, inplace=True) # removendo a coluna isrc de dftrain\n# dftrain = pd.concat([dftrain,isrc_column], axis=1)\n# dftrain",
      "execution_count": null,
      "outputs": []
    },
    {
      "metadata": {
        "collapsed": true,
        "_cell_guid": "3867212f-6634-4436-9730-30334059e077",
        "_uuid": "a7c7e6521c524dd03b1baa9f89336390ea9ed772",
        "trusted": false
      },
      "cell_type": "code",
      "source": "# columns = tt.columns.tolist()\n# # print (columns)\n# dd = tt.reindex(columns=columns)\n# # dd.plot.bar(x=\"XA\", y=\"BA\")\n# # print (len(dd.msno.unique()))\n# # print (len(dd.song_id.unique()))\n# datas = []\n# labels = []\n# for column in columns:\n#     datas.append(len(dd[column].unique()))\n#     labels.append(column)\n    \n# print (datas, labels)\n# print (\"\\n\", dd.genre_ids.unique())\n# for i in dd.genre_ids.unique():\n#     print (len(dd[dd.genre_ids.isin([i])]), i)\n# plot_bar(datas[2:], labels[2:0])",
      "execution_count": null,
      "outputs": []
    },
    {
      "metadata": {
        "collapsed": true,
        "_cell_guid": "23148477-f98c-4e8a-925c-b7bb298dbff4",
        "_uuid": "21de7cc9dc51cbb7b9915de690f941a02c17fd12",
        "trusted": false
      },
      "cell_type": "code",
      "source": "# def source_system_tab(data_frame):\n#     \"\"\"\n#     recebe o data_frame da base de dados e retorna o data frame retirando as \n#     linhas que tem valores nulos  na coluna source_system_tab\n#     \"\"\"\n#     df = data_frame[pd.notnull(data_frame.source_system_tab)]\n#     df = df[~df.source_system_tab.isin([\"null\"])]\n#     return df\n# for i in df.source_system_tab.unique():\n#     print (i, len(df[df.source_system_tab.isin([i])]))",
      "execution_count": null,
      "outputs": []
    },
    {
      "metadata": {
        "collapsed": true,
        "_cell_guid": "607764c1-9b43-4693-8403-f218dfcdac69",
        "_uuid": "78001153027cf49682bfbb15f0c322350d955597",
        "trusted": false
      },
      "cell_type": "code",
      "source": "# tt.describe()",
      "execution_count": null,
      "outputs": []
    },
    {
      "metadata": {
        "collapsed": true,
        "_cell_guid": "d163292c-c7f5-491f-a172-0167ff7f2693",
        "_uuid": "b2e6d3258b1eb21242e64a57437d434dc5c21d48",
        "trusted": false
      },
      "cell_type": "code",
      "source": "# columns = data_set.columns.tolist()[:-1]\n# data_set.drop_duplicates(subset=columns, keep='first', inplace=True) ",
      "execution_count": null,
      "outputs": []
    },
    {
      "metadata": {
        "collapsed": true,
        "_cell_guid": "3de4abc5-fb1f-44f0-8ba1-5267d8995505",
        "_uuid": "24ad3244197da6360909a6baebfcc29d371863c1",
        "trusted": false
      },
      "cell_type": "code",
      "source": "# data_set.describe()",
      "execution_count": null,
      "outputs": []
    },
    {
      "metadata": {
        "collapsed": true,
        "_cell_guid": "74bff95d-2be9-49bb-9948-03fe2bfca474",
        "_uuid": "51d60b2f9f5894c36f0800ee4ab48784fb0f9dd2",
        "trusted": false
      },
      "cell_type": "code",
      "source": "# import numpy as np\n# import pandas as pd\n# import lightgbm as lgb\n\n# from sklearn.neural_network import MLPRegressor\n\n# print('Loading data...')\n# data_path = './'\n# train = pd.read_csv(data_path + 'train.csv', nrows=50000, dtype={'msno' : 'category',\n#                                                 'source_system_tab' : 'category',\n#                                                   'source_screen_name' : 'category',\n#                                                   'source_type' : 'category',\n#                                                   'target' : np.uint8,\n#                                                   'song_id' : 'category'})\n# test = pd.read_csv(data_path + 'test.csv', nrows=50000, dtype={'msno' : 'category',\n#                                                 'source_system_tab' : 'category',\n#                                                 'source_screen_name' : 'category',\n#                                                 'source_type' : 'category',\n#                                                 'song_id' : 'category'})\n# songs = pd.read_csv(data_path + 'songs.csv', nrows=50000, dtype={'genre_ids': 'category',\n#                                                   'language' : 'category',\n#                                                   'artist_name' : 'category',\n#                                                   'composer' : 'category',\n#                                                   'lyricist' : 'category',\n#                                                   'song_id' : 'category'})\n# members = pd.read_csv(data_path + 'members.csv',dtype={'city' : 'category',\n#                                                       'bd' : np.uint8,\n#                                                       'gender' : 'category',\n#                                                       'registered_via' : 'category'})\n# songs_extra = pd.read_csv(data_path + 'song_extra_info.csv', nrows=50000)\n\n# print('Data preprocessing...')\n# song_cols = ['song_id', 'artist_name', 'genre_ids', 'song_length', 'language']\n# train = train.merge(songs[song_cols], on='song_id', how='left')\n# test = test.merge(songs[song_cols], on='song_id', how='left')\n\n# members['registration_year'] = members['registration_init_time'].apply(lambda x: int(str(x)[0:4]))\n# members['registration_month'] = members['registration_init_time'].apply(lambda x: int(str(x)[4:6]))\n# members['registration_date'] = members['registration_init_time'].apply(lambda x: int(str(x)[6:8]))\n\n# members['expiration_year'] = members['expiration_date'].apply(lambda x: int(str(x)[0:4]))\n# members['expiration_month'] = members['expiration_date'].apply(lambda x: int(str(x)[4:6]))\n# members['expiration_date'] = members['expiration_date'].apply(lambda x: int(str(x)[6:8]))\n# members = members.drop(['registration_init_time'], axis=1)\n\n# def isrc_to_year(isrc):\n#     if type(isrc) == str:\n#         if int(isrc[5:7]) > 17:\n#             return 1900 + int(isrc[5:7])\n#         else:\n#             return 2000 + int(isrc[5:7])\n#     else:\n#         return np.nan\n        \n# songs_extra['song_year'] = songs_extra['isrc'].apply(isrc_to_year)\n# songs_extra.drop(['isrc', 'name'], axis = 1, inplace = True)\n\n# train = train.merge(members, on='msno', how='left')\n# test = test.merge(members, on='msno', how='left')\n\n# train = train.merge(songs_extra, on = 'song_id', how = 'left')\n# test = test.merge(songs_extra, on = 'song_id', how = 'left')\n\n# import gc\n# del members, songs; gc.collect();\n\n# for col in train.columns:\n#     if train[col].dtype == object:\n#         train[col] = train[col].astype('category')\n#         test[col] = test[col].astype('category')\n\n# X = train.drop(['target'], axis=1)\n# y = train['target'].values\n\n# print (X)\n# X_test = test.drop(['id'], axis=1)\n# ids = test['id'].values\n\n\n# mlp = MLPRegressor(hidden_layer_sizes=(3), activation='relu', verbose=True)\n# mlp.fit(X, y)\n\n# p_test = mlp.predict(X_test)\n\n# \"\"\"\n# del train, test; gc.collect();\n\n# d_train = lgb.Dataset(X, y)\n# watchlist = [d_train]\n\n# #Those parameters are almost out of hat, so feel free to play with them. I can tell\n# #you, that if you do it right, you will get better results for sure ;)\n# print('Training LGBM model...')\n# params = {}\n# params['learning_rate'] = 0.2\n# params['application'] = 'binary'\n# params['max_depth'] = 8\n# params['num_leaves'] = 2**8\n# params['verbosity'] = 0\n# params['metric'] = 'auc'\n\n# print (d_train)\n\n# model = lgb.train(params, train_set=d_train, num_boost_round=50, valid_sets=watchlist, \\\n# verbose_eval=5)\n\n# print('Making predictions and saving them...')\n# p_test = model.predict(X_test)\n# \"\"\"\n# subm = pd.DataFrame()\n# subm['id'] = ids\n# subm['target'] = p_test\n# subm.to_csv('submissio.csv.gz', compression = 'gzip', index=False, float_format = '%.5f')\n# print('Done!')",
      "execution_count": null,
      "outputs": []
    },
    {
      "metadata": {
        "collapsed": true,
        "_cell_guid": "c0184f9e-c1c1-4d04-baa9-f0caecf7c7e4",
        "_uuid": "c7820d8f29f8cf4f2de3950a184900e75c0882de",
        "trusted": false
      },
      "cell_type": "code",
      "source": "# x = np.random.randn(1000, 3)\n# print (x)\n# # fig, axes = plt.subplots()\n\n# colors = ['red', 'blue', 'green']\n# N = 7\n# menMeans = [20, 35, 30, 35, 27,5,2]\n# womenMeans = [25, 32, 34, 20, 25,15,3]\n# menStd = (2, 3, 4, 1, 2)\n# womenStd = (3, 5, 2, 3, 3)\n# ind = np.arange(N)    # the x locations for the groups\n# width = 0.75       # the width of the bars: can also be len(x) sequence\n\n# p1 = plt.bar(ind, tuple(menMeans), width, color='#d62728'#, yerr=menStd\n#             )\n# p2 = plt.bar(ind, tuple(womenMeans), width,\n#              bottom=menMeans#, yerr=womenStd\n#             )\n\n# plt.ylabel('Scores')\n# plt.title('Scores by group and gender')\n# plt.xticks(ind, ['G1', 'G2', 'G3', 'G4', 'G5'])\n# plt.yticks(np.arange(0, 81, 10))\n# plt.legend((p1[0], p2[0]), ('Men', 'Women'))\n\n# plt.show()",
      "execution_count": null,
      "outputs": []
    },
    {
      "metadata": {
        "collapsed": true,
        "_cell_guid": "cde83583-8710-4d3f-ba27-b1c797b5d1e7",
        "_uuid": "75428174750841ee4197b80e3b75995eff18d91b",
        "trusted": false
      },
      "cell_type": "code",
      "source": "",
      "execution_count": null,
      "outputs": []
    }
  ],
  "metadata": {
    "kernelspec": {
      "display_name": "Python 3",
      "language": "python",
      "name": "python3"
    },
    "language_info": {
      "name": "python",
      "version": "3.6.3",
      "mimetype": "text/x-python",
      "codemirror_mode": {
        "name": "ipython",
        "version": 3
      },
      "pygments_lexer": "ipython3",
      "nbconvert_exporter": "python",
      "file_extension": ".py"
    }
  },
  "nbformat": 4,
  "nbformat_minor": 1
}