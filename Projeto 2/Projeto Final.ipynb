{
  "cells": [
    {
      "metadata": {
        "collapsed": true,
        "_uuid": "bb8fd3ccec1267a4b8626bd6dc612918349af1e8",
        "_cell_guid": "8368bcc5-8c6e-419b-a2e2-c9a2306181c4",
        "trusted": true
      },
      "cell_type": "code",
      "source": "import numpy as np\nimport pandas as pd\nimport lightgbm as lgb",
      "execution_count": 1,
      "outputs": []
    },
    {
      "metadata": {
        "_uuid": "4ad7ace993da451b3c6cfc66134bc83867aa5c71",
        "_cell_guid": "6bd5538e-f2ba-460d-b6ef-42723863de06"
      },
      "cell_type": "markdown",
      "source": "## Lendo informações dos usuários e das músicas"
    },
    {
      "metadata": {
        "collapsed": true,
        "_uuid": "dacaefb35ea3e2a76a7d3e9688814789690614b4",
        "_cell_guid": "c751ad15-7c89-444f-a26a-3712dc82f1cc",
        "trusted": true
      },
      "cell_type": "code",
      "source": "#read members\nmember = pd.read_csv(\"../input/members.csv\", dtype={'city' : 'category',\n                                                      'bd' : np.uint8,\n                                                      'gender' : 'category',\n                                                      'registered_via' : 'category'},\n                     parse_dates=['registration_init_time','expiration_date'])",
      "execution_count": 2,
      "outputs": []
    },
    {
      "metadata": {
        "collapsed": true,
        "_uuid": "65b74daa0444c3b96cf1bf700f7d4e8f32652ad6",
        "_cell_guid": "25ec4d00-3ea1-402a-8488-f03c8559520c",
        "trusted": true
      },
      "cell_type": "code",
      "source": "# read songs\nsong = pd.read_csv(\"../input/songs.csv\", dtype={'genre_ids': 'category',\n                                                  'language' : 'category',\n                                                  'artist_name' : 'category',\n                                                  'composer' : 'category',\n                                                  'lyricist' : 'category',\n                                                  'song_id' : 'category'})",
      "execution_count": 3,
      "outputs": []
    },
    {
      "metadata": {
        "collapsed": true,
        "_uuid": "1aee9c76c5dbdc74f287833174d68eb4b29cc81c",
        "_cell_guid": "8668eaf4-a849-436d-9507-9984b3edb77f",
        "trusted": true
      },
      "cell_type": "code",
      "source": "song_extra = pd.read_csv(\"../input/song_extra_info.csv\")",
      "execution_count": 4,
      "outputs": []
    },
    {
      "metadata": {
        "_uuid": "bc16f07f98fae022912e31b6b46f8e6534037681",
        "_cell_guid": "7632692d-d33f-4968-8a56-02f9c0de10c9"
      },
      "cell_type": "markdown",
      "source": "Pegando nomes das colunas que tem em usuários e músicas"
    },
    {
      "metadata": {
        "_uuid": "9e8d0d42e3c182e397d97c0a8f939b1e754a9f78",
        "_cell_guid": "4d726af0-9588-40de-b7c6-b377f58ea7b7",
        "trusted": true
      },
      "cell_type": "code",
      "source": "columns_member = member.columns.tolist()\ncolumns_song = song.columns.tolist()\ncolumns_song_extra = song_extra.columns.tolist()\n\nprint (columns_member)\nprint (columns_song)\nprint (columns_song_extra)",
      "execution_count": 5,
      "outputs": [
        {
          "output_type": "stream",
          "text": "['msno', 'city', 'bd', 'gender', 'registered_via', 'registration_init_time', 'expiration_date']\n['song_id', 'song_length', 'genre_ids', 'artist_name', 'composer', 'lyricist', 'language']\n['song_id', 'name', 'isrc']\n",
          "name": "stdout"
        }
      ]
    },
    {
      "metadata": {
        "_uuid": "920f429d7298d6031c5a92236bda81cba530cb73",
        "_cell_guid": "bf7613b5-99d1-4376-981a-1019f679acee"
      },
      "cell_type": "markdown",
      "source": "## Lendo base de dados de treinamento"
    },
    {
      "metadata": {
        "collapsed": true,
        "_uuid": "7bdd6903e2071456ada2bec0ab8553f372e41962",
        "_cell_guid": "c343e9c6-f473-4223-8796-6f355148f2c3",
        "trusted": true
      },
      "cell_type": "code",
      "source": "train = pd.read_csv(\"../input/train.csv\", dtype={'msno' : 'category',\n                                                'source_system_tab' : 'category',\n                                                  'source_screen_name' : 'category',\n                                                  'source_type' : 'category',\n                                                  'target' : np.uint8,\n                                                  'song_id' : 'category'})",
      "execution_count": 6,
      "outputs": []
    },
    {
      "metadata": {
        "_uuid": "eef640e6a177e925ed3184d837240d5e070d60d4",
        "_cell_guid": "e0ee67b6-33f2-4bf9-bd39-c20e5cf35ed9"
      },
      "cell_type": "markdown",
      "source": "## Lendo base de dados de teste"
    },
    {
      "metadata": {
        "collapsed": true,
        "_uuid": "379c8bb0c3e14ba81f4e02c588d443e5926ddf34",
        "_cell_guid": "20e02e63-e00e-4f15-bdb3-e17b967b9dc4",
        "scrolled": true,
        "trusted": true
      },
      "cell_type": "code",
      "source": "test = pd.read_csv(\"../input/test.csv\", dtype={'msno' : 'category',\n                                                'source_system_tab' : 'category',\n                                                'source_screen_name' : 'category',\n                                                'source_type' : 'category',\n                                                'song_id' : 'category'})",
      "execution_count": 7,
      "outputs": []
    },
    {
      "metadata": {
        "_uuid": "c5b5ca684cb836ebefed836fb28c1073f26b9ed6",
        "_cell_guid": "b0f9b630-371a-4e32-b48c-12e3d9a9089a"
      },
      "cell_type": "markdown",
      "source": "### Criando conjuntos de treinamento e teste"
    },
    {
      "metadata": {
        "_uuid": "564d15ec971570aa794fca19d04f63a6a8cda6fc",
        "_cell_guid": "6cb5d14f-c080-4b88-b15a-2ddf71322d39"
      },
      "cell_type": "markdown",
      "source": "Conjunto de treinamento"
    },
    {
      "metadata": {
        "collapsed": true,
        "_uuid": "d850f94a69081630368c4b0d9282f29d1196da46",
        "_cell_guid": "71b5c623-eb4f-49b3-a4bb-21f2cb8175e4",
        "trusted": true
      },
      "cell_type": "code",
      "source": "\nds_train = train.merge(member[columns_member], on='msno', how='left')\nds_train = ds_train.merge(song[columns_song], on='song_id', how='left')\nds_train = ds_train.merge(song_extra[columns_song_extra], on='song_id', how='left')",
      "execution_count": 8,
      "outputs": []
    },
    {
      "metadata": {
        "_uuid": "815d0755de7a5b27046b45067ce28d2101d3cb56",
        "_cell_guid": "c0676af1-faa5-45ea-9830-aca61e20e65d"
      },
      "cell_type": "markdown",
      "source": "Conjunto de teste"
    },
    {
      "metadata": {
        "collapsed": true,
        "_uuid": "90a96894581899ffa35fcdb26625bbd559853818",
        "_cell_guid": "c5d08000-e472-4756-b979-26b9b0da984b",
        "trusted": true
      },
      "cell_type": "code",
      "source": "ds_test = test.merge(member[columns_member], on='msno', how='left')\nds_test = ds_test.merge(song[columns_song], on='song_id', how='left')\nds_test = ds_test.merge(song_extra[columns_song_extra], on='song_id', how='left')",
      "execution_count": 9,
      "outputs": []
    },
    {
      "metadata": {
        "_uuid": "622edec6584a3cb63af990a5239f4f069bb1079e",
        "_cell_guid": "9d175e42-919a-4afb-a2c7-c11ba2a2578e"
      },
      "cell_type": "markdown",
      "source": "# 2. Adição de features"
    },
    {
      "metadata": {
        "_uuid": "d23f8f2802bca3f0bcd0ea77549cea6391ba1cc2",
        "_cell_guid": "b7923ddc-e0b3-48b2-bd6c-74b46a8f3d49"
      },
      "cell_type": "markdown",
      "source": "tempo de assinatura"
    },
    {
      "metadata": {
        "collapsed": true,
        "_uuid": "76bf446c93669d5e3fff7c4acbe6d0b4db1415e7",
        "_cell_guid": "04d067a8-2a39-4896-b621-a5b3aa496d60",
        "trusted": true
      },
      "cell_type": "code",
      "source": "ds_train['membership_days'] = ds_train['expiration_date'].subtract(ds_train['registration_init_time']).dt.days.astype(int)\nds_test['membership_days'] = ds_test['expiration_date'].subtract(ds_test['registration_init_time']).dt.days.astype(int)",
      "execution_count": 10,
      "outputs": []
    },
    {
      "metadata": {
        "_uuid": "3d717268c15ba365ab65f5419d156b89d1ed3ea3",
        "_cell_guid": "b9366b24-9aae-474d-8993-0d107ec3904a"
      },
      "cell_type": "markdown",
      "source": "artista e compositor é o mesmo"
    },
    {
      "metadata": {
        "collapsed": true,
        "_uuid": "4b751c4e637783c4bd7502b1c576db520b03f630",
        "_cell_guid": "1022cb59-12de-42b1-a6b5-48ab1a3efa26",
        "trusted": true
      },
      "cell_type": "code",
      "source": "ds_train['artist_composer'] = (np.asarray(ds_train['artist_name']) == np.asarray(ds_train['composer'])).astype(np.int8)\nds_test['artist_composer'] = (np.asarray(ds_test['artist_name']) == np.asarray(ds_test['composer'])).astype(np.int8)",
      "execution_count": 11,
      "outputs": []
    },
    {
      "metadata": {
        "_uuid": "76ed8d756f6310d2ff644264ae500cf93aef91c6",
        "_cell_guid": "f5aab926-2858-478a-a548-7bb7a6acf422"
      },
      "cell_type": "markdown",
      "source": "quantidade de generos, compositores e liricos"
    },
    {
      "metadata": {
        "collapsed": true,
        "_uuid": "bc73a79deeef6ff8ecced0db22963db40f7858a1",
        "_cell_guid": "fb39ba58-705b-400b-aca5-1a5f40914053",
        "trusted": true
      },
      "cell_type": "code",
      "source": "def count_vals(x):\n    # count number of values (since we can have mutliple values separated by '|')\n    if type(x) != str:\n        return 1\n    else:\n        return 1 + x.count('|')",
      "execution_count": 12,
      "outputs": []
    },
    {
      "metadata": {
        "collapsed": true,
        "_uuid": "d72db793918c3eae5b35493ac1cff6cb84e1c76b",
        "_cell_guid": "9c14db5a-e71a-4cbc-bd21-3c0d6e8e6d84",
        "trusted": true
      },
      "cell_type": "code",
      "source": "ds_train['number_of_genres'] = ds_train['genre_ids'].apply(count_vals)\nds_train['number_of_composers'] = ds_train['composer'].apply(count_vals)\nds_train['number_of_lyricists'] = ds_train['lyricist'].apply(count_vals)\n\nds_test['number_of_genres'] = ds_test['genre_ids'].apply(count_vals)\nds_test['number_of_composers'] = ds_test['composer'].apply(count_vals)\nds_test['number_of_lyricists'] = ds_test['lyricist'].apply(count_vals)",
      "execution_count": 13,
      "outputs": []
    },
    {
      "metadata": {
        "_uuid": "5c9629f49e6e5001f6d2f8a4652dbdf3bde1973b",
        "_cell_guid": "30357b86-ddb1-4808-9673-a685b899b72d"
      },
      "cell_type": "markdown",
      "source": "data de registro na plataforma"
    },
    {
      "metadata": {
        "collapsed": true,
        "_uuid": "836c17cd2e813f9391b3f6b28fa243f3e2ee12c8",
        "_cell_guid": "0ad7a605-2a10-45a8-8b50-58c554a157d5",
        "trusted": true
      },
      "cell_type": "code",
      "source": "ds_train['registration_year'] = ds_train['registration_init_time'].apply(lambda x: int(str(x)[0:4]))\nds_train['registration_month'] = ds_train['registration_init_time'].apply(lambda x: int(str(x)[5:7]))\nds_train['registration_date'] = ds_train['registration_init_time'].apply(lambda x: int(str(x)[8:10]))\nds_train = ds_train.drop(['registration_init_time'], axis=1)\n\nds_test['registration_year'] = ds_test['registration_init_time'].apply(lambda x: int(str(x)[0:4]))\nds_test['registration_month'] = ds_test['registration_init_time'].apply(lambda x: int(str(x)[5:7]))\nds_test['registration_date'] = ds_test['registration_init_time'].apply(lambda x: int(str(x)[8:10]))\nds_test = ds_test.drop(['registration_init_time'], axis=1)",
      "execution_count": 14,
      "outputs": []
    },
    {
      "metadata": {
        "_uuid": "5957bcf48448b2ad3b4882a92c7706207b6d3b7d",
        "_cell_guid": "5519cd3d-1666-43ff-a998-afcdabaded36"
      },
      "cell_type": "markdown",
      "source": "data de expiração do registro na plataforma"
    },
    {
      "metadata": {
        "collapsed": true,
        "_uuid": "fb98cdcb9ab0d9e037b486fa15d7a87fa8b8497e",
        "_cell_guid": "e7fc5985-d451-4c0f-b6be-d134113e3f85",
        "trusted": true
      },
      "cell_type": "code",
      "source": "ds_train['expiration_year'] = ds_train['expiration_date'].apply(lambda x: int(str(x)[0:4]))\nds_train['expiration_month'] = ds_train['expiration_date'].apply(lambda x: int(str(x)[5:7]))\nds_train['expiration_date'] = ds_train['expiration_date'].apply(lambda x: int(str(x)[8:10]))\n\nds_test['expiration_year'] = ds_test['expiration_date'].apply(lambda x: int(str(x)[0:4]))\nds_test['expiration_month'] = ds_test['expiration_date'].apply(lambda x: int(str(x)[5:7]))\nds_test['expiration_date'] = ds_test['expiration_date'].apply(lambda x: int(str(x)[8:10]))",
      "execution_count": 15,
      "outputs": []
    },
    {
      "metadata": {
        "_uuid": "9e954029efb43f84380c8f1c5e971d9f4f371e87",
        "_cell_guid": "8ef1d498-b7d7-4570-973d-2bd0eb962865"
      },
      "cell_type": "markdown",
      "source": "dividindo isrc em pais, organização que gravou a musica, ano de gravação e numero unico da musica"
    },
    {
      "metadata": {
        "collapsed": true,
        "_uuid": "c1ba2620f0388345763177bb14994e4a6350a600",
        "_cell_guid": "6248dd9c-3543-4d8f-93e2-799633eac153",
        "scrolled": true,
        "trusted": true
      },
      "cell_type": "code",
      "source": "isrc_values = pd.Series(ds_train.isrc.values)\nds_train.drop(['isrc'], axis=1, inplace=True)\nds_train['isrc_pais'] = isrc_values.str.slice(0,2).astype('category')\nds_train[\"isrc_pais\"] = pd.factorize(ds_train['isrc_pais'])[0]\n\nds_train['isrc_org'] = isrc_values.str.slice(2,5).astype('category')\nds_train[\"isrc_org\"] = pd.factorize(ds_train['isrc_org'])[0]\nds_train['isrc_year'] = isrc_values.str.slice(5,7).astype(float)  # IRSC issue date\n# ds_train['isrc_number'] = isrc_values.str.slice(7,12)\nds_train.loc[ds_train['isrc_year'] > 17, 'isrc_year'] += 1900  # 1900's songs\nds_train.loc[ds_train['isrc_year'] < 18, 'isrc_year'] += 2000  # 2000's songs\n\n\n\nisrc_values_test = pd.Series(ds_test.isrc.values)\nds_test.drop(['isrc'], axis=1, inplace=True)\nds_test['isrc_pais'] = isrc_values_test.str.slice(0,2).astype('category')\nds_test[\"isrc_pais\"] = pd.factorize(ds_test['isrc_pais'])[0]\n\nds_test['isrc_org'] = isrc_values_test.str.slice(2,5).astype('category')\nds_test[\"isrc_org\"] = pd.factorize(ds_test['isrc_org'])[0]\n\nds_test['isrc_year'] = isrc_values_test.str.slice(5,7).astype(float)  # IRSC issue date\n# ds_test['isrc_number'] = isrc_values_test.str.slice(7,12)\nds_test.loc[ds_test['isrc_year'] > 17, 'isrc_year'] += 1900  # 1900's songs\nds_test.loc[ds_test['isrc_year'] < 18, 'isrc_year'] += 2000  # 2000's songs",
      "execution_count": 16,
      "outputs": []
    },
    {
      "metadata": {
        "_uuid": "31fe02b27b55af3d6554dc0acce610ee9292dbf9",
        "_cell_guid": "12e63181-fc28-4fc1-af39-5a82de9dfeec"
      },
      "cell_type": "markdown",
      "source": "Teste"
    },
    {
      "metadata": {
        "_uuid": "72971ec8a1caee9023c84f027bae608191e3ad9d",
        "_cell_guid": "9e95f68d-5db2-4bc9-8cf4-a52669fb43e9"
      },
      "cell_type": "markdown",
      "source": "substituindo os dados faltantes pela moda do conjunto"
    },
    {
      "metadata": {
        "_uuid": "14f908a9ec4bdd7f40d8e6e637b67d50cd028cfb",
        "_cell_guid": "76d32ef7-75e4-4901-87b7-b694199cff15",
        "trusted": true
      },
      "cell_type": "code",
      "source": "columns_tt = ds_train.columns.tolist()\nfor i in columns_tt:\n    ttt = ds_train[ds_train[i].notnull()]\n    moda = ttt[i].mode()[0]\n    ds_train[i].replace([np.nan, \"null\"], moda, inplace=True)\n    print (i, moda)",
      "execution_count": 17,
      "outputs": [
        {
          "output_type": "stream",
          "text": "msno MXIMDXO0j3UpaT7FvOSGW6Y5zfhlh+xYjTqGoUdMzEE=\nsong_id reXuGcEWDDCnL0K3Th//3DFG4S1ACSpJMzA+CFipo1g=\nsource_system_tab my library\nsource_screen_name Local playlist more\nsource_type local-library\ntarget 1\ncity 1\nbd 0\ngender male\nregistered_via 9\nexpiration_date 30\nsong_length 235415.0\ngenre_ids 465\nartist_name Various Artists\ncomposer 周杰倫\nlyricist 阿信\nlanguage 3.0\nname 演員\nmembership_days 3\nartist_composer 0\nnumber_of_genres 1\nnumber_of_composers 1\nnumber_of_lyricists 1\nregistration_year 2016\nregistration_month 12\nregistration_date 6\nexpiration_year 2017\nexpiration_month 9\nisrc_pais 3\nisrc_org 0\nisrc_year 2016.0\n",
          "name": "stdout"
        }
      ]
    },
    {
      "metadata": {
        "_uuid": "6775db9d9d81ad3883c1ca0091911b220127351d",
        "_cell_guid": "d31e4e65-9dbf-4f6b-b040-ec7e673cc83d",
        "trusted": true
      },
      "cell_type": "code",
      "source": "columns_tt = ds_test.columns.tolist()\nfor i in columns_tt:\n    ttt = ds_test[ds_test[i].notnull()]\n    moda = ttt[i].mode()[0]\n    ds_test[i].replace([np.nan, \"null\"], moda, inplace=True)\n    print (i, moda)\n# columns_tt = ds_test.columns.tolist()\n# for ind, i in enumerate(columns_tt):\n#     cc = list(ds_test[i].unique())\n#     print (ind, i, \"==>\" , len(cc), type(cc[0]) , \"\\n\")\n# # ds_test",
      "execution_count": 18,
      "outputs": [
        {
          "output_type": "stream",
          "text": "id 0\nmsno KGXNZ/H3VxvET/+rGxlrAe7Gpz2eKMXyuSg3xh8Ij1M=\nsong_id ZcKgNis1AP1LA0sdtIddrtk7P04iiJzJrXvwXdT/X3Q=\nsource_system_tab my library\nsource_screen_name Local playlist more\nsource_type online-playlist\ncity 1\nbd 0\ngender male\nregistered_via 9\nexpiration_date 30\nsong_length 234161.0\ngenre_ids 465\nartist_name Various Artists\ncomposer 周杰倫\nlyricist 方文山\nlanguage 3.0\nname 妮妮 (Nini)\nmembership_days 3\nartist_composer 0\nnumber_of_genres 1\nnumber_of_composers 1\nnumber_of_lyricists 1\nregistration_year 2016\nregistration_month 1\nregistration_date 6\nexpiration_year 2017\nexpiration_month 9\nisrc_pais 0\nisrc_org 0\nisrc_year 2016.0\n",
          "name": "stdout"
        }
      ]
    },
    {
      "metadata": {
        "_uuid": "5fd3c2175cce68dbd1ba09d9f62661cf558601b0",
        "_cell_guid": "107b3417-f8b9-48e9-af10-542aa812e51a"
      },
      "cell_type": "markdown",
      "source": "### Retirando colunas de id do usuário e musica e nome da musica"
    },
    {
      "metadata": {
        "collapsed": true,
        "_uuid": "cad721f7cd9bcbf3d53b74e55092ecf63334847b",
        "_cell_guid": "c9b6ee78-0fa9-450e-8a03-66c1414b479d",
        "trusted": true
      },
      "cell_type": "code",
      "source": "ds_train.drop([\"msno\", \"song_id\", \"name\"], axis=1, inplace=True)\nds_test.drop([\"msno\", \"song_id\", \"name\"], axis=1, inplace=True)",
      "execution_count": 19,
      "outputs": []
    },
    {
      "metadata": {
        "_uuid": "136e088b588c9c6a514e095bd9a9ff2a51c78be7",
        "_cell_guid": "77b82ee5-3ad9-4bc4-ae04-06f92eb2eda4"
      },
      "cell_type": "markdown",
      "source": "### Dividindo em input e output"
    },
    {
      "metadata": {
        "collapsed": true,
        "_uuid": "9b172a89787d9eeb5df931f3bf02009bde13f593",
        "_cell_guid": "40769cac-d1ab-4620-89f1-31e8ee5ccb7c",
        "scrolled": true,
        "trusted": true
      },
      "cell_type": "code",
      "source": "X = ds_train.drop(['target'], axis=1)\ny = ds_train.target\n\nX_test = ds_test.drop(['id'], axis=1)\nindex_test = ds_test['id'].values",
      "execution_count": 20,
      "outputs": []
    },
    {
      "metadata": {
        "_uuid": "3c0ec35e08e8a43c5320d558a749e4e597d37954",
        "_cell_guid": "5df3c32d-f8fa-43c4-8d3b-e50a2e1ec6d5"
      },
      "cell_type": "markdown",
      "source": "### Treinamento com LGBD"
    },
    {
      "metadata": {
        "_uuid": "6de346abaf7372b4ba9cd0394953a6cbdd1063a4",
        "_cell_guid": "3d33f5fe-11e3-4c9b-a725-c2c46c59b829",
        "trusted": true
      },
      "cell_type": "code",
      "source": "d_train = lgb.Dataset(X, y)\nwatchlist = [d_train]\n\n#Those parameters are almost out of hat, so feel free to play with them. I can tell\n#you, that if you do it right, you will get better results for sure ;)\nprint('Training LGBM model...')\nparams = {}\nparams['learning_rate'] = 0.5\nparams['application'] = 'binary'\n# params['feature_fraction'] = 0.8\nparams['max_depth'] = 8\nparams['num_leaves'] = 2**8\nparams['verbosity'] = 0\nparams['metric'] = 'auc'\n\nmodel = lgb.train(params, train_set=d_train, num_boost_round=150, valid_sets=watchlist, \\\nverbose_eval=1)\n\nprint (\"done\")",
      "execution_count": 21,
      "outputs": [
        {
          "output_type": "stream",
          "text": "Training LGBM model...\n[1]\ttraining's auc: 0.675523\n[2]\ttraining's auc: 0.684953\n[3]\ttraining's auc: 0.69067\n[4]\ttraining's auc: 0.693497\n[5]\ttraining's auc: 0.697877\n[6]\ttraining's auc: 0.699972\n[7]\ttraining's auc: 0.70172\n[8]\ttraining's auc: 0.702612\n[9]\ttraining's auc: 0.703397\n[10]\ttraining's auc: 0.70418\n[11]\ttraining's auc: 0.70536\n[12]\ttraining's auc: 0.705597\n[13]\ttraining's auc: 0.706047\n[14]\ttraining's auc: 0.706363\n[15]\ttraining's auc: 0.707552\n[16]\ttraining's auc: 0.707996\n[17]\ttraining's auc: 0.708233\n[18]\ttraining's auc: 0.708699\n[19]\ttraining's auc: 0.709407\n[20]\ttraining's auc: 0.710184\n[21]\ttraining's auc: 0.710452\n[22]\ttraining's auc: 0.710949\n[23]\ttraining's auc: 0.711219\n[24]\ttraining's auc: 0.71207\n[25]\ttraining's auc: 0.713361\n[26]\ttraining's auc: 0.713665\n[27]\ttraining's auc: 0.715109\n[28]\ttraining's auc: 0.715668\n[29]\ttraining's auc: 0.715919\n[30]\ttraining's auc: 0.716294\n[31]\ttraining's auc: 0.71652\n[32]\ttraining's auc: 0.716941\n[33]\ttraining's auc: 0.718025\n[34]\ttraining's auc: 0.718333\n[35]\ttraining's auc: 0.718621\n[36]\ttraining's auc: 0.718833\n[37]\ttraining's auc: 0.719088\n[38]\ttraining's auc: 0.719698\n[39]\ttraining's auc: 0.720049\n[40]\ttraining's auc: 0.720366\n[41]\ttraining's auc: 0.720531\n[42]\ttraining's auc: 0.720752\n[43]\ttraining's auc: 0.720959\n[44]\ttraining's auc: 0.721086\n[45]\ttraining's auc: 0.721195\n[46]\ttraining's auc: 0.722183\n[47]\ttraining's auc: 0.722395\n[48]\ttraining's auc: 0.722987\n[49]\ttraining's auc: 0.723438\n[50]\ttraining's auc: 0.723612\n[51]\ttraining's auc: 0.724133\n[52]\ttraining's auc: 0.724411\n[53]\ttraining's auc: 0.724688\n[54]\ttraining's auc: 0.724862\n[55]\ttraining's auc: 0.725592\n[56]\ttraining's auc: 0.725949\n[57]\ttraining's auc: 0.726647\n[58]\ttraining's auc: 0.72676\n[59]\ttraining's auc: 0.726877\n[60]\ttraining's auc: 0.727032\n[61]\ttraining's auc: 0.727294\n[62]\ttraining's auc: 0.727662\n[63]\ttraining's auc: 0.728177\n[64]\ttraining's auc: 0.728958\n[65]\ttraining's auc: 0.729859\n[66]\ttraining's auc: 0.730237\n[67]\ttraining's auc: 0.730354\n[68]\ttraining's auc: 0.730512\n[69]\ttraining's auc: 0.730644\n[70]\ttraining's auc: 0.730736\n[71]\ttraining's auc: 0.730905\n[72]\ttraining's auc: 0.731047\n[73]\ttraining's auc: 0.731252\n[74]\ttraining's auc: 0.731399\n[75]\ttraining's auc: 0.73173\n[76]\ttraining's auc: 0.732212\n[77]\ttraining's auc: 0.732683\n[78]\ttraining's auc: 0.73341\n[79]\ttraining's auc: 0.733511\n[80]\ttraining's auc: 0.734266\n[81]\ttraining's auc: 0.734544\n[82]\ttraining's auc: 0.735465\n[83]\ttraining's auc: 0.735846\n[84]\ttraining's auc: 0.73611\n[85]\ttraining's auc: 0.736312\n[86]\ttraining's auc: 0.736395\n[87]\ttraining's auc: 0.736686\n[88]\ttraining's auc: 0.737674\n[89]\ttraining's auc: 0.737741\n[90]\ttraining's auc: 0.737847\n[91]\ttraining's auc: 0.738303\n[92]\ttraining's auc: 0.738418\n[93]\ttraining's auc: 0.738523\n[94]\ttraining's auc: 0.738649\n[95]\ttraining's auc: 0.738862\n[96]\ttraining's auc: 0.738984\n[97]\ttraining's auc: 0.739224\n[98]\ttraining's auc: 0.739393\n[99]\ttraining's auc: 0.739585\n[100]\ttraining's auc: 0.739656\n[101]\ttraining's auc: 0.7398\n[102]\ttraining's auc: 0.739892\n[103]\ttraining's auc: 0.739999\n[104]\ttraining's auc: 0.740133\n[105]\ttraining's auc: 0.740234\n[106]\ttraining's auc: 0.740354\n[107]\ttraining's auc: 0.740441\n[108]\ttraining's auc: 0.741676\n[109]\ttraining's auc: 0.742434\n[110]\ttraining's auc: 0.742897\n[111]\ttraining's auc: 0.74316\n[112]\ttraining's auc: 0.743451\n[113]\ttraining's auc: 0.743699\n[114]\ttraining's auc: 0.743798\n[115]\ttraining's auc: 0.743896\n[116]\ttraining's auc: 0.744142\n[117]\ttraining's auc: 0.744313\n[118]\ttraining's auc: 0.744587\n[119]\ttraining's auc: 0.744715\n[120]\ttraining's auc: 0.744824\n[121]\ttraining's auc: 0.744938\n[122]\ttraining's auc: 0.745085\n[123]\ttraining's auc: 0.745162\n[124]\ttraining's auc: 0.745648\n[125]\ttraining's auc: 0.746006\n[126]\ttraining's auc: 0.746424\n[127]\ttraining's auc: 0.746789\n[128]\ttraining's auc: 0.747224\n[129]\ttraining's auc: 0.747314\n[130]\ttraining's auc: 0.7476\n[131]\ttraining's auc: 0.747743\n[132]\ttraining's auc: 0.747815\n[133]\ttraining's auc: 0.748053\n[134]\ttraining's auc: 0.74812\n[135]\ttraining's auc: 0.748603\n[136]\ttraining's auc: 0.749208\n[137]\ttraining's auc: 0.749381\n[138]\ttraining's auc: 0.749491\n[139]\ttraining's auc: 0.74982\n[140]\ttraining's auc: 0.749931\n[141]\ttraining's auc: 0.750096\n[142]\ttraining's auc: 0.750215\n[143]\ttraining's auc: 0.75031\n[144]\ttraining's auc: 0.750407\n[145]\ttraining's auc: 0.750477\n[146]\ttraining's auc: 0.750585\n[147]\ttraining's auc: 0.750655\n[148]\ttraining's auc: 0.750748\n[149]\ttraining's auc: 0.750872\n[150]\ttraining's auc: 0.751045\ndone\n",
          "name": "stdout"
        }
      ]
    },
    {
      "metadata": {
        "_uuid": "23f3cc411eb62963da84d758779869e57e153bf5",
        "_cell_guid": "dde48851-f4ad-4a16-89be-8e8fef44b3eb"
      },
      "cell_type": "markdown",
      "source": "### Fazendo o predict com o LGBD"
    },
    {
      "metadata": {
        "_uuid": "b107090114ac2f9aa003b4dadd89b499410709b1",
        "_cell_guid": "11f73eb8-9584-455b-bbfb-d4b729dfbe88",
        "trusted": true
      },
      "cell_type": "code",
      "source": "print('Making predictions and saving them...')\np_test = model.predict(X_test)\n\nsubm = pd.DataFrame()\nsubm['id'] = index_test\nsubm['target'] = p_test\nsubm.to_csv('submission.csv.gz', compression = 'gzip', index=False, float_format = '%.5f')\nprint('Done!')",
      "execution_count": 22,
      "outputs": [
        {
          "output_type": "stream",
          "text": "Making predictions and saving them...\nDone!\n",
          "name": "stdout"
        }
      ]
    }
  ],
  "metadata": {
    "kernelspec": {
      "display_name": "Python 3",
      "language": "python",
      "name": "python3"
    },
    "language_info": {
      "name": "python",
      "version": "3.6.3",
      "mimetype": "text/x-python",
      "codemirror_mode": {
        "name": "ipython",
        "version": 3
      },
      "pygments_lexer": "ipython3",
      "nbconvert_exporter": "python",
      "file_extension": ".py"
    }
  },
  "nbformat": 4,
  "nbformat_minor": 1
}